{
 "cells": [
  {
   "cell_type": "code",
   "execution_count": 5,
   "metadata": {},
   "outputs": [],
   "source": [
    "import pandas as pd"
   ]
  },
  {
   "cell_type": "code",
   "execution_count": 7,
   "metadata": {},
   "outputs": [],
   "source": [
    "df = pd.read_csv('time-series.csv')"
   ]
  },
  {
   "cell_type": "code",
   "execution_count": 8,
   "metadata": {},
   "outputs": [
    {
     "data": {
      "text/html": [
       "<div>\n",
       "<style scoped>\n",
       "    .dataframe tbody tr th:only-of-type {\n",
       "        vertical-align: middle;\n",
       "    }\n",
       "\n",
       "    .dataframe tbody tr th {\n",
       "        vertical-align: top;\n",
       "    }\n",
       "\n",
       "    .dataframe thead th {\n",
       "        text-align: right;\n",
       "    }\n",
       "</style>\n",
       "<table border=\"1\" class=\"dataframe\">\n",
       "  <thead>\n",
       "    <tr style=\"text-align: right;\">\n",
       "      <th></th>\n",
       "      <th>date</th>\n",
       "      <th>AAPL</th>\n",
       "      <th>MSFT</th>\n",
       "    </tr>\n",
       "  </thead>\n",
       "  <tbody>\n",
       "    <tr>\n",
       "      <th>0</th>\n",
       "      <td>2015-01-02</td>\n",
       "      <td>101.9635</td>\n",
       "      <td>42.5999</td>\n",
       "    </tr>\n",
       "    <tr>\n",
       "      <th>1</th>\n",
       "      <td>2015-01-05</td>\n",
       "      <td>99.0910</td>\n",
       "      <td>42.2036</td>\n",
       "    </tr>\n",
       "    <tr>\n",
       "      <th>2</th>\n",
       "      <td>2015-01-06</td>\n",
       "      <td>99.1003</td>\n",
       "      <td>41.5886</td>\n",
       "    </tr>\n",
       "    <tr>\n",
       "      <th>3</th>\n",
       "      <td>2015-01-07</td>\n",
       "      <td>100.4899</td>\n",
       "      <td>42.1170</td>\n",
       "    </tr>\n",
       "    <tr>\n",
       "      <th>4</th>\n",
       "      <td>2015-01-08</td>\n",
       "      <td>104.3510</td>\n",
       "      <td>43.3560</td>\n",
       "    </tr>\n",
       "  </tbody>\n",
       "</table>\n",
       "</div>"
      ],
      "text/plain": [
       "         date      AAPL     MSFT\n",
       "0  2015-01-02  101.9635  42.5999\n",
       "1  2015-01-05   99.0910  42.2036\n",
       "2  2015-01-06   99.1003  41.5886\n",
       "3  2015-01-07  100.4899  42.1170\n",
       "4  2015-01-08  104.3510  43.3560"
      ]
     },
     "execution_count": 8,
     "metadata": {},
     "output_type": "execute_result"
    }
   ],
   "source": [
    "df.head()"
   ]
  },
  {
   "cell_type": "code",
   "execution_count": 12,
   "metadata": {},
   "outputs": [
    {
     "data": {
      "text/plain": [
       "0       101.9635\n",
       "1        99.0910\n",
       "2        99.1003\n",
       "3       100.4899\n",
       "4       104.3510\n",
       "5       104.4629\n",
       "6       101.8889\n",
       "7       102.7935\n",
       "8       102.4018\n",
       "9        99.6226\n",
       "10       98.8485\n",
       "11      101.3946\n",
       "12      102.1687\n",
       "13      104.8266\n",
       "14      105.3675\n",
       "15      105.4795\n",
       "16      101.7863\n",
       "17      107.5406\n",
       "18      110.8887\n",
       "19      109.2659\n",
       "20      110.6369\n",
       "21      110.6555\n",
       "22      111.5042\n",
       "23      112.3000\n",
       "24      111.3544\n",
       "25      112.0941\n",
       "26      114.2475\n",
       "27      116.9254\n",
       "28      118.4047\n",
       "29      118.9852\n",
       "          ...   \n",
       "976     191.4100\n",
       "977     193.5300\n",
       "978     185.8600\n",
       "979     176.9800\n",
       "980     176.7800\n",
       "981     172.2900\n",
       "982     174.6200\n",
       "983     174.2400\n",
       "984     180.9400\n",
       "985     179.5500\n",
       "986     178.5800\n",
       "987     184.8200\n",
       "988     176.6900\n",
       "989     174.7200\n",
       "990     168.4900\n",
       "991     169.6000\n",
       "992     168.6300\n",
       "993     169.1000\n",
       "994     170.9500\n",
       "995     165.4800\n",
       "996     163.9400\n",
       "997     166.0700\n",
       "998     160.8900\n",
       "999     156.8300\n",
       "1000    150.7300\n",
       "1001    146.8300\n",
       "1002    157.1700\n",
       "1003    156.1500\n",
       "1004    156.2300\n",
       "1005    157.7400\n",
       "Name: AAPL, Length: 1006, dtype: float64"
      ]
     },
     "execution_count": 12,
     "metadata": {},
     "output_type": "execute_result"
    }
   ],
   "source": [
    "df['AAPL']"
   ]
  },
  {
   "cell_type": "code",
   "execution_count": null,
   "metadata": {},
   "outputs": [],
   "source": []
  }
 ],
 "metadata": {
  "kernelspec": {
   "display_name": "Python 3",
   "language": "python",
   "name": "python3"
  },
  "language_info": {
   "codemirror_mode": {
    "name": "ipython",
    "version": 3
   },
   "file_extension": ".py",
   "mimetype": "text/x-python",
   "name": "python",
   "nbconvert_exporter": "python",
   "pygments_lexer": "ipython3",
   "version": "3.7.3"
  }
 },
 "nbformat": 4,
 "nbformat_minor": 2
}
